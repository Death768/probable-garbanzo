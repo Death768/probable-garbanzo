{
 "cells": [
  {
   "cell_type": "code",
   "execution_count": 65,
   "metadata": {},
   "outputs": [],
   "source": [
    "import pandas\n",
    "import numpy as np\n",
    "\n",
    "def encode_seq(sequence):\n",
    "\talphabet = ['A', 'C', 'D', 'E', 'F', 'G','H', 'I', 'K', 'L', 'M', 'N', 'P', 'Q', 'R', 'S', 'T', 'V', 'W', 'Y']\n",
    "\tchar_to_int = dict((c, i) for i, c in enumerate(alphabet))\n",
    "\tinteger_encoded = np.array([char_to_int[char] for char in sequence])\n",
    "\treturn integer_encoded\n",
    "\n",
    "with open('temp.csv', 'r') as file:\n",
    "\tdata = pandas.read_csv(file, nrows=100000)\n",
    "\tdata.drop(columns=['Target', 'Assay', 'Replicate'], inplace=True)\n",
    "\n",
    "data['Sequence'] = data['Sequence'].apply(encode_seq)\n",
    "data['HC'] = data['HC'].apply(encode_seq)\n",
    "data['LC'] = data['LC'].apply(encode_seq)\n",
    "data['CDRH1'] = data['CDRH1'].apply(encode_seq)\n",
    "data['CDRH2'] = data['CDRH2'].apply(encode_seq)\n",
    "data['CDRH3'] = data['CDRH3'].apply(encode_seq)\n",
    "data['CDRL1'] = data['CDRL1'].apply(encode_seq)\n",
    "data['CDRL2'] = data['CDRL2'].apply(encode_seq)\n",
    "data['CDRL3'] = data['CDRL3'].apply(encode_seq)"
   ]
  },
  {
   "cell_type": "code",
   "execution_count": 70,
   "metadata": {},
   "outputs": [
    {
     "name": "stdout",
     "output_type": "stream",
     "text": [
      "Fitting 3 folds for each of 12 candidates, totalling 36 fits\n"
     ]
    }
   ],
   "source": [
    "import sklearn.ensemble\n",
    "\n",
    "train_data, test_data = sklearn.model_selection.train_test_split(data, test_size=0.2)\n",
    "\n",
    "X_train = np.array(train_data['Sequence'].tolist())\n",
    "y_train = np.array(train_data['Pred_affinity'].tolist())\n",
    "X_test = np.array(test_data['Sequence'].tolist())\n",
    "y_test = np.array(test_data['Pred_affinity'].tolist())\n",
    "\n",
    "\n",
    "param_grid = {\n",
    "\t'n_estimators': [200, 300, 400],\n",
    "\t'max_depth': [40, 50, 60],\n",
    "\t'min_samples_split': [2],\n",
    "\t'min_samples_leaf': [1],\n",
    "}\n",
    "\n",
    "model = sklearn.ensemble.RandomForestRegressor()\n",
    "grid_search = sklearn.model_selection.GridSearchCV(estimator=model, param_grid=param_grid, cv=3, n_jobs=-1, verbose=3)\n",
    "grid_search.fit(X_train, y_train)\n",
    "\n",
    "print(grid_search.best_params_)\n",
    "print(grid_search.best_score_)\n",
    "model = grid_search.best_estimator_\n",
    "model.fit(X_train, y_train)\n",
    "\n",
    "y_pred = model.predict(X_test)\n",
    "print(sklearn.metrics.mean_squared_error(y_test, y_pred))\n",
    "print(sklearn.metrics.r2_score(y_test, y_pred))\n",
    "print(y_pred[:10])\n",
    "print(y_test[:10])"
   ]
  }
 ],
 "metadata": {
  "kernelspec": {
   "display_name": "Python 3",
   "language": "python",
   "name": "python3"
  },
  "language_info": {
   "codemirror_mode": {
    "name": "ipython",
    "version": 3
   },
   "file_extension": ".py",
   "mimetype": "text/x-python",
   "name": "python",
   "nbconvert_exporter": "python",
   "pygments_lexer": "ipython3",
   "version": "3.10.12"
  }
 },
 "nbformat": 4,
 "nbformat_minor": 2
}
